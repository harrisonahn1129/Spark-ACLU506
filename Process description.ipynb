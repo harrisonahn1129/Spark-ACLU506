{
 "cells": [
  {
   "cell_type": "markdown",
   "id": "74798bd8",
   "metadata": {},
   "source": [
    "# Project Descriptions"
   ]
  },
  {
   "cell_type": "markdown",
   "id": "61787446",
   "metadata": {},
   "source": [
    "## Data from Analyze Boston\n",
    "\n",
    "Each dataset in Analyze Boston has its own resourceID and is in a pattern of \"xxxxxxxx-xxxx-xxxx-xxxx-xxxxxxxxxxxx.\"\n",
    "Thus, we will first make a disctionary that takes necessary resourceID's as elements and the string of description of each resourceID's as keys."
   ]
  },
  {
   "cell_type": "markdown",
   "id": "9c73bf06",
   "metadata": {},
   "source": [
    "We will be using dataset of: \n",
    "- CRIMEINCIDENTREPORTS_2022 \n",
    "- CRIMEINCIDENTREPORTS_2021\n",
    "- CRIMEINCIDENTREPORTS_2020\n",
    "- CRIMEINCIDENTREPORTS_2019\n",
    "- CRIMEINCIDENTREPORTS_2018\n",
    "- SHOOTINGS\n",
    "- SHOTFIRED\n",
    "- FIELDINTERROGATION_2020\n",
    "- FIELDINTERROGATION_2019\n",
    "- FIELDINTERROGATION_2016\n",
    "- FIREARM_RECOVERY\n",
    "- EARNINGS_2021\n",
    "- EARNINGS_2020\n",
    "- EARNINGS_2019\n",
    "- EARNINGS_2018\n",
    "- EARNINGS_2017\n",
    "- EARNINGS_2016\n",
    "- EARNINGS_2015\n",
    "- EARNINGS_2014\n",
    "- EARNINGS_2013\n",
    "- EARNINGS_2012\n",
    "- EARNINGS_2011\n",
    "- CHECKBOOK_2022\n",
    "- CHECKBOOK_2021"
   ]
  },
  {
   "cell_type": "code",
   "execution_count": 2,
   "id": "cb60726a",
   "metadata": {},
   "outputs": [],
   "source": [
    "# This is the function that forms the dictionary of resourceID's with keys that describes which resourceID connects to which dataset.\n",
    "def getSourceDict():\n",
    "    source = {\n",
    "        \"CRIMEINCIDENTREPORTS_2022\": \"313e56df-6d77-49d2-9c49-ee411f10cf58\",\n",
    "        \"CRIMEINCIDENTREPORTS_2021\": \"f4495ee9-c42c-4019-82c1-d067f07e45d2\",\n",
    "        \"CRIMEINCIDENTREPORTS_2020\": \"be047094-85fe-4104-a480-4fa3d03f9623\",\n",
    "        \"CRIMEINCIDENTREPORTS_2019\": \"34e0ae6b-8c94-4998-ae9e-1b51551fe9ba\",\n",
    "        \"CRIMEINCIDENTREPORTS_2018\": \"e86f8e38-a23c-4c1a-8455-c8f94210a8f1\",\n",
    "        \"SHOOTINGS\": \"313e56df-6d77-49d2-9c49-ee411f10cf58\",\n",
    "        \"SHOTSFIRED\": \"e16705ca-49ce-4803-84c1-c9848aa63024\",\n",
    "        \"FIELDINTERROGATION_2020\": \"64dd32d9-26f9-4275-9265-97fa3de7e22b\",\n",
    "        \"FIELDINTERROGATION_2019\": \"03f33240-47c1-46f2-87ae-bcdabec092ad\",\n",
    "        \"FIELDINTERROGATION_2016\": \"35f3fb8f-4a01-4242-9758-f664e7ead125\",\n",
    "        \"FIREARM_RECOVERY\": \"a3d2260f-8a41-4e95-9134-d14711b0f954\",\n",
    "        \"EARNINGS_2021\": \"ec5aaf93-1509-4641-9310-28e62e028457\",\n",
    "        \"EARNINGS_2020\": \"e2e2c23a-6fc7-4456-8751-5321d8aa869b\",\n",
    "        \"EARNINGS_2019\": \"3bdfe6dc-3a81-49ce-accc-22161e2f7e74\",\n",
    "        \"EARNINGS_2018\": \"31358fd1-849a-48e0-8285-e813f6efbdf1\",\n",
    "        \"EARNINGS_2017\": \"70129b87-bd4e-49bb-aa09-77644da73503\",\n",
    "        \"EARNINGS_2016\": \"8368bd3d-3633-4927-8355-2a2f9811ab4f\",\n",
    "        \"EARNINGS_2015\": \"2ff6343f-850d-46e7-98d1-aca79b619fd6\",\n",
    "        \"EARNINGS_2014\": \"941c9de4-fb91-41bb-ad5a-43a35f5dc80f\",\n",
    "        \"EARNINGS_2013\": \"fac6a421-72fb-4f85-b4ac-4aca1e32d94e\",\n",
    "        \"EARNINGS_2012\": \"d96dd8ad-9396-484a-87af-4d15e9e2ccb2\",\n",
    "        \"EARNINGS_2011\": \"a861eff8-facc-4372-9b2d-262c2887b19e\",\n",
    "        \"CHECKBOOK_2022\": \"0a261d4e-3eec-4bac-bf72-b9a7aa77b033\",\n",
    "        \"CHECKBOOK_2021\": \"32897eeb-d9ca-494f-93b1-991c50bcd6a6\"\n",
    "    }\n",
    "    return source"
   ]
  },
  {
   "cell_type": "markdown",
   "id": "c64397ac",
   "metadata": {},
   "source": [
    "**Requests library**\n",
    "\n",
    "Instead of manually add query, we will use requests (HTTP) library to directly access to the dataset."
   ]
  },
  {
   "cell_type": "code",
   "execution_count": 3,
   "id": "b43cff01",
   "metadata": {},
   "outputs": [],
   "source": [
    "import requests"
   ]
  },
  {
   "cell_type": "markdown",
   "id": "c0eb74a3",
   "metadata": {},
   "source": [
    "Example queries using requests:\n",
    "\n",
    "r = requests.get('--url address of the source page from Analyze Boston--')"
   ]
  },
  {
   "cell_type": "markdown",
   "id": "d2683a5d",
   "metadata": {},
   "source": [
    "**Helping functions**\n",
    "\n",
    "As a helping function, we will make a function to convert from the name of the source to resourceID, and a function to create a list of srouces we are using in the dictionary."
   ]
  },
  {
   "cell_type": "code",
   "execution_count": 4,
   "id": "a9a56dc8",
   "metadata": {},
   "outputs": [],
   "source": [
    "# fromNametoID function takes a string of name of the source as input. It searches the key in the source dictionary that is the same \n",
    "# as the input. It will return the resourceID of the found key.\n",
    "def fromNametoID(sourceName):\n",
    "    ID = getSourceDict()[sourceName]\n",
    "    \n",
    "    return ID\n",
    "\n",
    "# sourceList function takes no input. It will iterate through the keys in the source dictionary and return the list of keys (strings)\n",
    "# in the dictionary (names of sources).\n",
    "def sourceList():\n",
    "    srcList = []\n",
    "    dic = getSourceDict()\n",
    "    for key in dic:\n",
    "        srcList.append(key)\n",
    "        \n",
    "    return srcList"
   ]
  },
  {
   "cell_type": "markdown",
   "id": "1b085443",
   "metadata": {},
   "source": [
    "**Use of Query**\n",
    "\n",
    "Analyze Boston has a specific form of url query form that returns the data in a form that we want (ex. first 5 data from the dataset, \n",
    "data with specific name from the dataset, etc.). The general form of the query is:\n",
    "\n",
    "**first # results**\n",
    "https://data.boston.gov/api/3/action/datastore_search?resource_id=(--resourceID of the source we want the data)&limit=#\n",
    "(# is an integer, which indicates first # results we want to get)\n",
    "\n",
    "**results containing 'jones'**\n",
    "https://data.boston.gov/api/3/action/datastore_search?resource_id=(--resourceID of the source we want the data)&q=jones\n",
    "('jones' can be replaced with any string we want to include in the results)\n",
    "\n",
    "From the query, we are returning data in json format.\n",
    "\n",
    "Other examples of queries can be found from \"Analyze Boston -> DATASETS (on the top right) -> search name of dataset -> scroll down for DATA AND RESOURCES -> preview the dataset we want to use -> in the url, there are resourceID and DATA API will include more explanation."
   ]
  },
  {
   "cell_type": "code",
   "execution_count": 5,
   "id": "5f19c50e",
   "metadata": {},
   "outputs": [],
   "source": [
    "# function for first # results. It will take the resourceID (string) and n (intger) as inputs. It will return the first n data from \n",
    "# the dataset within the input resourceID in json.\n",
    "def first_n_result(ID, n):\n",
    "    result = requests.get(\"https://data.boston.gov/api/3/action/datastore_search?resource_id=\"+ID+\"&limit=\"+str(n))\n",
    "    \n",
    "    return result.json()\n",
    "\n",
    "# function for results containing 'jones'. It will take the resourceID (string) and contained (string) as inputs. It will return\n",
    "# the data that contains the contained strings from the dataset within the input resourceID in json.\n",
    "def contained_result(ID, contained):\n",
    "    result = requests.get(\"https://data.boston.gov/api/3/action/datastore_search?resource_id=\"+ID+\"&q=\"+contained)\n",
    "    \n",
    "    return result.json()"
   ]
  },
  {
   "cell_type": "markdown",
   "id": "47a4724e",
   "metadata": {},
   "source": [
    "**Parsing the returned jason**\n",
    "\n",
    "We will create two parsing functions:\n",
    "- A function that takes the json from the query as an input. It will return the fields of the data in json with types and names.\n",
    "- A function that takes the json from the query as an input. It will return the metadata of the data in json."
   ]
  },
  {
   "cell_type": "markdown",
   "id": "9083281d",
   "metadata": {},
   "source": [
    "If we search the url in the query form on google, we can see the format of the dataset in json. From this format, we can see that the data is stored in a form of dictionary. Since what we want from the data is the fields and records from the result part of the data, we will only take [result][fields] for the data fields and [result][records] for the actual data values."
   ]
  },
  {
   "cell_type": "code",
   "execution_count": 6,
   "id": "6418c476",
   "metadata": {},
   "outputs": [],
   "source": [
    "# data_fields function takes the json returned from the query as an input. It will return the fields of the data in json with\n",
    "# types and names.\n",
    "def data_fields(rejson):\n",
    "    return rejson['result']['fields']\n",
    "\n",
    "# data_meta function takes the json returned from the query as an input. It will return the records of the data in json.\n",
    "def data_meta(rejson):\n",
    "    return rejson['result']['records']"
   ]
  },
  {
   "cell_type": "markdown",
   "id": "ab4b4304",
   "metadata": {},
   "source": [
    "## Example run with EARNINGS_2021 Data\n",
    "\n",
    "we will try to run the functions to demonstrate how they can be used to display the imformation we want from the dataset."
   ]
  },
  {
   "cell_type": "markdown",
   "id": "442dcc82",
   "metadata": {},
   "source": [
    "**Listing out the data srouces we have in the source dictionary**\n",
    "\n",
    "WE will first check which data sources we have in our source dictionary. Make sure to go on the Analyze Boston website, and add all the data sources we need in the source dictionary."
   ]
  },
  {
   "cell_type": "code",
   "execution_count": 7,
   "id": "579321c8",
   "metadata": {},
   "outputs": [
    {
     "name": "stdout",
     "output_type": "stream",
     "text": [
      "CRIMEINCIDENTREPORTS_2022\n",
      "CRIMEINCIDENTREPORTS_2021\n",
      "CRIMEINCIDENTREPORTS_2020\n",
      "CRIMEINCIDENTREPORTS_2019\n",
      "CRIMEINCIDENTREPORTS_2018\n",
      "SHOOTINGS\n",
      "SHOTSFIRED\n",
      "FIELDINTERROGATION_2020\n",
      "FIELDINTERROGATION_2019\n",
      "FIELDINTERROGATION_2016\n",
      "FIREARM_RECOVERY\n",
      "EARNINGS_2021\n",
      "EARNINGS_2020\n",
      "EARNINGS_2019\n",
      "EARNINGS_2018\n",
      "EARNINGS_2017\n",
      "EARNINGS_2016\n",
      "EARNINGS_2015\n",
      "EARNINGS_2014\n",
      "EARNINGS_2013\n",
      "EARNINGS_2012\n",
      "EARNINGS_2011\n",
      "CHECKBOOK_2022\n",
      "CHECKBOOK_2021\n"
     ]
    }
   ],
   "source": [
    "# Using sourceList() to get the list of names of sources in the dictionary.\n",
    "srcList = sourceList()\n",
    "\n",
    "# Printing each elements (names of sources) in the srcList.\n",
    "for i in srcList:\n",
    "    print(i)"
   ]
  },
  {
   "cell_type": "markdown",
   "id": "a73522ae",
   "metadata": {},
   "source": [
    "**Get resourceID from the source name, testing query, and checking fields of the data**\n",
    "\n",
    "Since we decided to use EARNINGS_2021 dataset for the example, we will use its source name to obtain the corresponding resourceID. Then we will test one of the query (in this example, we will make a query on getting the first 5 data from the dataset). From the data we get from the query, we will check the fields of the data (this should be the same as the heading of the data from the excel file we can visualize by downloading the actual data from Analyze Boston)."
   ]
  },
  {
   "cell_type": "code",
   "execution_count": 8,
   "id": "55da9250",
   "metadata": {},
   "outputs": [
    {
     "name": "stdout",
     "output_type": "stream",
     "text": [
      "ec5aaf93-1509-4641-9310-28e62e028457\n",
      "{'type': 'int', 'id': '_id'}\n",
      "{'type': 'text', 'id': 'NAME'}\n",
      "{'type': 'text', 'id': 'DEPARTMENT_NAME'}\n",
      "{'type': 'text', 'id': 'TITLE'}\n",
      "{'type': 'text', 'id': 'REGULAR'}\n",
      "{'type': 'text', 'id': 'RETRO'}\n",
      "{'type': 'text', 'id': 'OTHER'}\n",
      "{'type': 'text', 'id': 'OVERTIME'}\n",
      "{'type': 'text', 'id': 'INJURED'}\n",
      "{'type': 'text', 'id': 'DETAIL'}\n",
      "{'type': 'text', 'id': 'QUINN_EDUCATION_INCENTIVE'}\n",
      "{'type': 'text', 'id': 'TOTAL_GROSS'}\n",
      "{'type': 'text', 'id': 'POSTAL'}\n"
     ]
    }
   ],
   "source": [
    "# We will use EARNINGS_2021 data for this example.\n",
    "use = \"EARNINGS_2021\"\n",
    "\n",
    "# Using fromNametoID(), we are getting the resourceID of the EARNINGS_2021 dataset from Analyze Boston\n",
    "resourceID = fromNametoID(use)\n",
    "\n",
    "# Checking the resourceID of the \"EARNINGS_2021\": ec5aaf93-1509-4641-9310-28e62e028457\n",
    "print(resourceID)\n",
    "\n",
    "# For this example, we will use the query of first 5 results of the data\n",
    "data_5 = first_n_result(resourceID, 5)\n",
    "\n",
    "# to check the fields in the dataset, we will use data_fields() with the input of the data result we got from the query.\n",
    "fields = data_fields(data_5)\n",
    "\n",
    "# Checking the fields of the dataset\n",
    "for i in range(0,len(fields)):\n",
    "    print(fields[i])"
   ]
  },
  {
   "cell_type": "markdown",
   "id": "cebace7e",
   "metadata": {},
   "source": [
    "## Formatting and sorting data"
   ]
  },
  {
   "cell_type": "markdown",
   "id": "5db87c82",
   "metadata": {},
   "source": [
    "**Using numpy**\n",
    "\n",
    "For the example of formatting and sorting using numpy, we will continue to use EARNINGS_2021 dataset. You can use the other datasets and follow the same process to format and sort the data."
   ]
  },
  {
   "cell_type": "markdown",
   "id": "b5cc09f3",
   "metadata": {},
   "source": [
    "We will first set the n (variable to indicate the number of data) as huge enough number to ensure that we retrieve all the data from the dataset."
   ]
  },
  {
   "cell_type": "code",
   "execution_count": 9,
   "id": "5a35d1a6",
   "metadata": {},
   "outputs": [],
   "source": [
    "# It is okay for n to exceed the number of data, since we just want to ensure that we iterate all the data in the dataset.\n",
    "n = 1000000"
   ]
  },
  {
   "cell_type": "markdown",
   "id": "446d7267",
   "metadata": {},
   "source": [
    "Then as we have done in the previous example, we will take the fields of the data, and store the types and ids of it in separate arrays. To get the fields and types of the data, we only need to analyze one set of data since every data will have the same fields and types. Thus for this part, we will be using the query of getting the first one data from the dataset (first_n_result(resourceID, 1))."
   ]
  },
  {
   "cell_type": "code",
   "execution_count": 10,
   "id": "b87f9324",
   "metadata": {},
   "outputs": [],
   "source": [
    "# Create arrays to store ids and types\n",
    "data_type = []\n",
    "data_id = []\n",
    "\n",
    "dataset = \"EARNINGS_2021\"\n",
    "\n",
    "# Convert the dataset name to resourceID\n",
    "resourceID = fromNametoID(dataset)\n",
    "\n",
    "# Get data fields\n",
    "data = data_fields(first_n_result(resourceID,1))\n",
    "\n",
    "# Iterate through the fields and store the ids and types\n",
    "for i in range(len(data)):\n",
    "    data_type.append(data[i]['type'])\n",
    "    data_id.append(data[i]['id'])"
   ]
  },
  {
   "cell_type": "markdown",
   "id": "d2a5e5c7",
   "metadata": {},
   "source": [
    "With the arrays of data fields and ids, we will start reformatting the records of the data. To start with it, we will first get the metadata. For this part, since we want to work with every data in the dataset, we will use previously assigned n in the query (retrieveing first n data)."
   ]
  },
  {
   "cell_type": "code",
   "execution_count": 11,
   "id": "aeb51cdb",
   "metadata": {},
   "outputs": [],
   "source": [
    "# Getting the metadata of the first n data from the dataset\n",
    "metadata = data_meta(first_n_result(resourceID, n))"
   ]
  },
  {
   "cell_type": "markdown",
   "id": "b250effb",
   "metadata": {},
   "source": [
    "If we analyze the fields of the data from above example, we see that in json format of the data, the numeric values of the data is stored in string format (type = text). In the following process, we will convert the string (text) format of the numeric value data into float (int) format."
   ]
  },
  {
   "cell_type": "code",
   "execution_count": null,
   "id": "4bb9dff0",
   "metadata": {},
   "outputs": [],
   "source": []
  }
 ],
 "metadata": {
  "kernelspec": {
   "display_name": "Python 3 (ipykernel)",
   "language": "python",
   "name": "python3"
  },
  "language_info": {
   "codemirror_mode": {
    "name": "ipython",
    "version": 3
   },
   "file_extension": ".py",
   "mimetype": "text/x-python",
   "name": "python",
   "nbconvert_exporter": "python",
   "pygments_lexer": "ipython3",
   "version": "3.9.7"
  }
 },
 "nbformat": 4,
 "nbformat_minor": 5
}
